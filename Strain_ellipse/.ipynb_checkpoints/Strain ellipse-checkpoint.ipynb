{
 "cells": [
  {
   "cell_type": "markdown",
   "metadata": {
    "deletable": true,
    "editable": true
   },
   "source": [
    "# The \"Strain ellipse\"\n",
    "This notebook should illustrate, how you get from a unit circle to a strain ellipse. It is based on our findings in the \"Strain Parameters\" notebook."
   ]
  },
  {
   "cell_type": "code",
   "execution_count": 1,
   "metadata": {
    "collapsed": true,
    "deletable": true,
    "editable": true
   },
   "outputs": [],
   "source": [
    "from __future__ import division\n",
    "from IPython.display import Image\n",
    "from IPython.display import HTML\n",
    "import math as m\n",
    "import numpy as np\n",
    "import matplotlib.pyplot as plt\n",
    "import ipywidgets as pywid\n",
    "import os,sys\n",
    "%matplotlib inline"
   ]
  },
  {
   "cell_type": "markdown",
   "metadata": {
    "deletable": true,
    "editable": true
   },
   "source": [
    "### Contents\n",
    "1. [Meaning of \"pure shear\" and \"simple shear\"](#meaning)  \n",
    "    1.1 [pure shear](#pure_shear)  \n",
    "    1.2 [simple shear](#simple_shear)  \n",
    "2. [Equations](#equations)\n",
    "3. [Shearing a body](#shear_body)\n",
    "4. [Questions](#questions)"
   ]
  },
  {
   "cell_type": "markdown",
   "metadata": {
    "deletable": true,
    "editable": true
   },
   "source": [
    "<a id='meaning'></a>  \n",
    "## Meaning of \"pure shear\" and \"simple shear\"  \n",
    "Here, you will learn about the characteristics and differences between pure shear and simple shear.  "
   ]
  },
  {
   "cell_type": "markdown",
   "metadata": {
    "deletable": true,
    "editable": true
   },
   "source": [
    "<a id='pure_shear'></a>  \n",
    "### pure shear\n",
    "Pure shear can also be called \"flattening\". It is a deformation, that can be represented by taking a square and shortening it parallel to one side while lengthening it parallel to the perpendicular side by the same amount. This means, that the area stays constant.  \n",
    "<img src=\"pure_shear.PNG\">  \n",
    "Case B is actually redundant, as it is similar to case A with a rotated coordinate system. Here, swapping of x$_1$ and x$_2$ axis is required for performing case B.  "
   ]
  },
  {
   "cell_type": "markdown",
   "metadata": {
    "deletable": true,
    "editable": true
   },
   "source": [
    "<a id='simple_shear'></a>\n",
    "### simple shear\n",
    "Simple shear is a two-dimensional, area-constant deformation, resembling the sliding of cards in a deck. The rectangular shape of the deck changes into a parallelogram. The internal orientation to the shear direction of lines is important. If a line (or layer) is orented parallel to the shear direction, the deformation has no influence on its length or thickness. The layer is not rotated either (brownish layer in the figure below).  \n",
    "Layers that are cross-cut by the shear planes are either rotated and may be shortened and thickened, or lengthened and thinned, depending on their initial orientation (green layer).  \n",
    "<img src=\"simple_shear.PNG\">\n",
    "Imagine instead of lines, there were a circle in the unsheared square. When sheared by simple shear, that circle would turn into an ellipse, wouldn't it?  "
   ]
  },
  {
   "cell_type": "markdown",
   "metadata": {
    "deletable": true,
    "editable": true
   },
   "source": [
    "<a id='equations'></a>  \n",
    "## Equations\n",
    "\n",
    "Remember the deformation tensor / deformation matrix, you've learned about in the \"Strain Parameters\" notebook?  \n",
    "\n",
    "$$ D=\\left(\\begin{array}{rr} D_{11} & D_{12} \\\\\n",
    "D_{21} & D_{22}\\end{array}\\right)$$  \n",
    "\n",
    "Using this tensor, we can model pure shear and simple shear. Above, we have described shear processes by a circle reshaping into an ellipse.  \n",
    "A unit circle can be described by:\n",
    "\n",
    "$$x^2 + y^2 = 1 $$  \n",
    "\n",
    "Combining the equation for a unit circle with the deformation tensor, we achieve the equation for a strain ellipse:\n",
    "\n",
    "$$ \\bigg (\\frac{D_{22}x' + D_{21}y'}{D_{11}D_{22} - D_{12}D_{21}} \\bigg)^2 + \\bigg (\\frac{-D_{21}x' + D_{11}y'}{D_{11}D_{22} - D_{12}D_{21}} \\bigg)^2 = 1$$"
   ]
  },
  {
   "cell_type": "markdown",
   "metadata": {
    "deletable": true,
    "editable": true
   },
   "source": [
    "<a id='shear_body'></a>\n",
    "## Shearing a body\n",
    "below is the code transferring the stated equations.  \n",
    "In the interactive figure, you can interactively set the parameters (D$_{11}$, D$_{12}$, D$_{21}$, and D$_{22}$) of your deformation tensor.  \n",
    "Play around and see how it works!"
   ]
  },
  {
   "cell_type": "code",
   "execution_count": 2,
   "metadata": {
    "collapsed": true,
    "deletable": true,
    "editable": true
   },
   "outputs": [],
   "source": [
    "def transform(D11,D12,D21,D22):\n",
    "    # rectangle\n",
    "    o_r = np.array([[-1,-1],[1,-1],[1,1],[-1,1],[-1,-1]])\n",
    "    d_r = np.array([[D11*o_r[0,0]+D12*o_r[0,1],D21*o_r[0,0]+D22*o_r[0,1]],\n",
    "                    [D11*o_r[1,0]+D12*o_r[1,1],D21*o_r[1,0]+D22*o_r[1,1]],\n",
    "                    [D11*o_r[2,0]+D12*o_r[2,1],D21*o_r[2,0]+D22*o_r[2,1]],\n",
    "                    [D11*o_r[3,0]+D12*o_r[3,1],D21*o_r[3,0]+D22*o_r[3,1]], \n",
    "                    [D11*o_r[4,0]+D12*o_r[4,1],D21*o_r[4,0]+D22*o_r[4,1]]])\n",
    "    \n",
    "    # circle, ellipse\n",
    "    deg = np.linspace(0,360,360)\n",
    "    r2d = np.pi/180.\n",
    "    angle = deg*r2d\n",
    "    circ = np.zeros([360,2])\n",
    "    circ[:,0] = np.cos(angle)\n",
    "    circ[:,1] = np.sin(angle)\n",
    "    \n",
    "    ell = np.zeros([360,2])\n",
    "    ell[:,0] = circ[:,0]*D11 + circ[:,1]*D12\n",
    "    ell[:,1] = circ[:,0]*D21 + circ[:,1]*D22\n",
    "    \n",
    "    # plot the figure\n",
    "    fig = plt.figure(figsize=(10,10))\n",
    "    plt.plot(o_r[:,0],o_r[:,1],'-',linewidth=2)\n",
    "    plt.plot(d_r[:,0],d_r[:,1],'r-',linewidth=2)\n",
    "    plt.plot(circ[:,0],circ[:,1],'-g',linewidth=1.3)\n",
    "    plt.plot(ell[:,0],ell[:,1],'-c',linewidth=1.3)\n",
    "    plt.xlim([-3, 3])\n",
    "    plt.ylim([-3, 3])\n",
    "    plt.xlabel(\"x$_1$\",fontsize=20)\n",
    "    plt.ylabel(\"x$_2$\",fontsize=20)\n",
    "    plt.grid()\n",
    "    plt.tick_params(axis='both', which='major', labelsize=14)\n",
    "    plt.gca().set_aspect('equal', adjustable='box')\n",
    "    "
   ]
  },
  {
   "cell_type": "code",
   "execution_count": 3,
   "metadata": {
    "collapsed": false,
    "deletable": true,
    "editable": true
   },
   "outputs": [
    {
     "data": {
      "text/plain": [
       "<function __main__.transform>"
      ]
     },
     "execution_count": 3,
     "metadata": {},
     "output_type": "execute_result"
    },
    {
     "data": {
      "image/png": "[encoded data removed]",
      "text/plain": [
       "<matplotlib.figure.Figure at 0x7f1df98>"
      ]
     },
     "metadata": {},
     "output_type": "display_data"
    }
   ],
   "source": [
    "pywid.interact(transform,D11=(-3.,3.), D12=(-3.,3.), D21=(-3.,3.), D22=(-3.,3.))"
   ]
  },
  {
   "cell_type": "markdown",
   "metadata": {
    "deletable": true,
    "editable": true
   },
   "source": [
    "<a id=\"questions\"></a>\n",
    "Play around with the four components of the strain tensor $D$, and assess which tensor component has an effect on:  \n",
    " * rotation\n",
    " * extension\n",
    " * compression (negative extension)\n",
    " * shearing\n",
    "Try to see the difference between *pure shear* and *simple shear* and define a tensor for each of those deformation types.  \n",
    "Write your answer in the text box below."
   ]
  },
  {
   "cell_type": "markdown",
   "metadata": {
    "deletable": true,
    "editable": true
   },
   "source": [
    "### Answer \n",
    "**put your answer here**"
   ]
  }
 ],
 "metadata": {
  "hide_input": false,
  "kernelspec": {
   "display_name": "Python 3",
   "language": "python",
   "name": "python3"
  },
  "language_info": {
   "codemirror_mode": {
    "name": "ipython",
    "version": 3
   },
   "file_extension": ".py",
   "mimetype": "text/x-python",
   "name": "python",
   "nbconvert_exporter": "python",
   "pygments_lexer": "ipython3",
   "version": "3.6.0"
  },
  "latex_envs": {
   "LaTeX_envs_menu_present": true,
   "autocomplete": true,
   "bibliofile": "biblio.bib",
   "cite_by": "apalike",
   "current_citInitial": 1,
   "eqLabelWithNumbers": true,
   "eqNumInitial": 1,
   "hotkeys": {
    "equation": "Ctrl-E",
    "itemize": "Ctrl-I"
   },
   "labels_anchors": false,
   "latex_user_defs": false,
   "report_style_numbering": false,
   "user_envs_cfg": false
  }
 },
 "nbformat": 4,
 "nbformat_minor": 0
}
