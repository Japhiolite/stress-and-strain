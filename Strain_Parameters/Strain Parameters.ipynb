{
 "cells": [
  {
   "cell_type": "markdown",
   "metadata": {},
   "source": [
    "# Strain Parameters\n",
    "If a body is strained, this leads to changes of length of lines and changes in the angles between intersecting lines. \n"
   ]
  },
  {
   "cell_type": "code",
   "execution_count": 1,
   "metadata": {
    "collapsed": true
   },
   "outputs": [],
   "source": [
    "from __future__ import division\n",
    "from IPython.display import Image\n",
    "from IPython.display import HTML\n",
    "import math as m\n",
    "import numpy as np\n",
    "import matplotlib.pyplot as plt\n",
    "import ipywidgets as pywid\n",
    "import os,sys\n",
    "%matplotlib inline"
   ]
  },
  {
   "cell_type": "markdown",
   "metadata": {},
   "source": [
    "### Contents\n",
    "1. [Change in length](#change in length)  \n",
    "2. [Extension, quadratic extension, reciprocal quadratic extension](#Extension)  \n",
    "3. [Logarithmic strain and shear strain](#strain)  \n",
    "4. [Shearing of a rectangle](#shearing)\n",
    "5. [Deformation Tensor](#deformation)"
   ]
  },
  {
   "cell_type": "markdown",
   "metadata": {},
   "source": [
    "<a id='change in length'></a>  \n",
    "## Change in length  \n",
    "As stated above, strain is defined by change in length through deformation. Two basic parameters describe extension, strain, etc.  \n",
    "* $l_A$ initial length before deformation  \n",
    "* $l'_A$ final length after deformation\n",
    "\n",
    "<img src=\"extension.PNG\">"
   ]
  },
  {
   "cell_type": "code",
   "execution_count": 2,
   "metadata": {
    "collapsed": true
   },
   "outputs": [],
   "source": [
    "# initial length\n",
    "lA = 1.\n",
    "# length after deformation\n",
    "lAD = 1.2"
   ]
  },
  {
   "cell_type": "markdown",
   "metadata": {},
   "source": [
    "<a id='Extension'></a>  \n",
    "## Extension, Quadratic extension, Reciprocal quadratic extension \n",
    "for analysis of small deformation, we calculate the extension $e$ from $l_A$ and $l'_A$.  \n",
    "\n",
    "\n",
    "$$e(extension) = \\frac{l'_A - l_A}{l_A}$$  \n",
    "\n",
    "for large finite strains, we calculate the quadratic extension $\\lambda$  \n",
    "\n",
    "$$\\lambda = \\Bigg( \\frac{l'_A}{l_A} \\Bigg) ^2 = (1+e)^2 $$\n",
    "\n",
    "in some cases, it is convenient to use the *reciprocal quadratic extension* instead. Logically, it is defined as  \n",
    "\n",
    "$$ \\lambda' = \\frac{1}{\\lambda} $$"
   ]
  },
  {
   "cell_type": "code",
   "execution_count": 3,
   "metadata": {
    "collapsed": false
   },
   "outputs": [
    {
     "name": "stdout",
     "output_type": "stream",
     "text": [
      "extension is 0.20\n",
      "quadratic extension is 1.44\n",
      "reciprocal quadratic extension is 0.69\n"
     ]
    }
   ],
   "source": [
    "e = (lAD - lA)/lA  \n",
    "lam = (1 + e)**2\n",
    "lamP = 1/lam  \n",
    "\n",
    "print('extension is %.2f' % e)\n",
    "print(\"quadratic extension is %.2f\" % lam)\n",
    "print(\"reciprocal quadratic extension is %.2f\" % lamP)"
   ]
  },
  {
   "cell_type": "markdown",
   "metadata": {},
   "source": [
    "<a id='strain'></a>  \n",
    "## Logarithmic strain and shear strain  \n",
    "Logarithmic strain is a parameter most suited to the examination of different types of progressive deformation sequences (particulary coaxial paths). It is defined as:  \n",
    "\n",
    "$$\\epsilon = log\\Bigg(\\frac{l'_A}{l_A}\\Bigg) $$ \n",
    "\n",
    "The logarithmic base can be either 10 or *e*. Looking at the equations for quadratic extension, we can reformulate $\\epsilon$ to:  \n",
    "\n",
    "$$\\epsilon = log(1+e) = \\frac{1}{2} log\\, \\lambda $$  \n",
    "\n",
    "Shear strain is defined by the angular shear strain and is always referred by the angle $\\psi$. It is always important if x2 moved clockwise (right-handed shear) or counter-clockwise (left-handed shear). It is defined as:  \n",
    "\n",
    "$$\\gamma = tan\\,\\psi $$  \n",
    "\n",
    "Shear strain is a measure of the distance sheared by the perpendicular to the reference direction at unit distance from the reference line. \n",
    "\n",
    "Another measure of angular defection combines angular and length parameters. It is termed $\\gamma'$.  \n",
    "\n",
    "$$\\gamma' = \\frac{\\gamma}{\\lambda} $$  \n",
    "\n",
    "<img src=\"shear.PNG\">"
   ]
  },
  {
   "cell_type": "code",
   "execution_count": 4,
   "metadata": {
    "collapsed": false
   },
   "outputs": [
    {
     "name": "stdout",
     "output_type": "stream",
     "text": [
      "logarithmic strain is 0.182\n",
      "shear strain is 1.963\n",
      "gamma prime is 1.363\n"
     ]
    }
   ],
   "source": [
    "eps = m.log(lAD/lA)\n",
    "eps_lam = m.log(1+e)\n",
    "\n",
    "psi = 63\n",
    "gam = m.tan(psi*m.pi/180.)\n",
    "gamP = gam/lam\n",
    "print(\"logarithmic strain is %.3f\" % eps)\n",
    "print(\"shear strain is %.3f\" % gam)\n",
    "print(\"gamma prime is %.3f\" % gamP)"
   ]
  },
  {
   "cell_type": "markdown",
   "metadata": {},
   "source": [
    "<a id='shearing'></a>  \n",
    "## Shearing of a rectangle\n",
    "Using the angle $\\psi$, we will now shear a rectangle."
   ]
  },
  {
   "cell_type": "code",
   "execution_count": 5,
   "metadata": {
    "collapsed": true
   },
   "outputs": [],
   "source": [
    "def plot_rectangles(psi):\n",
    "    \n",
    "    gam = m.tan(psi*m.pi/180.)\n",
    "    orig_rectangle = np.array([[0,0],[1,0],[1,1],[0,1],[0,0]])\n",
    "    def_rectangle = np.array([[0,0],[1,0],[gam+1,1],[gam,1],[0,0]])\n",
    "    \n",
    "    fig = plt.figure(figsize=(15,10))\n",
    "    plt.plot(orig_rectangle[:,0],orig_rectangle[:,1],'-',linewidth=2)\n",
    "    plt.plot(def_rectangle[:,0],def_rectangle[:,1],'r-',linewidth=2)\n",
    "    plt.xlim([-0.25, 3])\n",
    "    plt.ylim([-0.25,1.25])\n",
    "    plt.xlabel(\"x\",fontsize=16)\n",
    "    plt.ylabel(\"y\",fontsize=16)\n",
    "    plt.tick_params(axis='both', which='major', labelsize=14)\n",
    "    plt.gca().set_aspect('equal', adjustable='box')"
   ]
  },
  {
   "cell_type": "code",
   "execution_count": 6,
   "metadata": {
    "collapsed": false,
    "scrolled": true
   },
   "outputs": [
    {
     "data": {
      "image/png": "[encoded data removed]",
      "text/plain": [
       "<matplotlib.figure.Figure at 0x975f790>"
      ]
     },
     "metadata": {},
     "output_type": "display_data"
    }
   ],
   "source": [
    "pywid.interact(plot_rectangles,psi=(0.,63.))"
   ]
  },
  {
   "cell_type": "markdown",
   "metadata": {},
   "source": [
    "<a id='deformation'></a>  \n",
    "## Deformation Tensors\n",
    "Using deformation tensors, we can easily transform vectors from an *initial* state to a *deformed* state.\n",
    "The deformation matrix in 2D can be written as:\n",
    "\n",
    "$$ D=\\left(\\begin{array}{rr} D_{11} & D_{12} \\\\\n",
    "D_{21} & D_{22}\\end{array}\\right)$$  \n",
    "\n",
    "So transformed points $x'_1$ and $x'_2$ can be obtained by:\n",
    "\n",
    "$$x'_1 = D_{11} x_1 + D_{12} x_2 \\\\\n",
    "x'_2 = D_{21} x_1 + D_{22} x_2 $$"
   ]
  },
  {
   "cell_type": "code",
   "execution_count": 17,
   "metadata": {
    "collapsed": false
   },
   "outputs": [],
   "source": [
    "def transform(D11,D12,D21,D22,x1,x2):\n",
    "    \n",
    "    x1P = D11*x1 + D12*x2\n",
    "    x2P = D21*x1 + D22*x2\n",
    "    \n",
    "    fig = plt.figure(figsize=(10,10))\n",
    "    plt.scatter(x1,x2,marker='o',s=100)\n",
    "    plt.scatter(x1P,x2P,marker='o',c='r',s=100)\n",
    "    plt.xlim([-5, 5])\n",
    "    plt.ylim([-5, 5])\n",
    "    plt.xlabel(\"x$_1$\",fontsize=20)\n",
    "    plt.ylabel(\"x$_2$\",fontsize=20)\n",
    "    plt.grid()\n",
    "    plt.tick_params(axis='both', which='major', labelsize=14)\n",
    "    plt.gca().set_aspect('equal', adjustable='box')"
   ]
  },
  {
   "cell_type": "code",
   "execution_count": 18,
   "metadata": {
    "collapsed": false,
    "scrolled": true
   },
   "outputs": [
    {
     "data": {
      "text/plain": [
       "<function __main__.transform>"
      ]
     },
     "execution_count": 18,
     "metadata": {},
     "output_type": "execute_result"
    },
    {
     "data": {
      "image/png": "[encoded data removed]",
      "text/plain": [
       "<matplotlib.figure.Figure at 0x9e382d0>"
      ]
     },
     "metadata": {},
     "output_type": "display_data"
    }
   ],
   "source": [
    "pywid.interact(transform,D11=(-3,3), D12=(-3,3), D21=(-3,3), D22=(-3,3), x1=(0,5), x2=(0,5))"
   ]
  }
 ],
 "metadata": {
  "kernelspec": {
   "display_name": "Python 2",
   "language": "python",
   "name": "python2"
  },
  "language_info": {
   "codemirror_mode": {
    "name": "ipython",
    "version": 2
   },
   "file_extension": ".py",
   "mimetype": "text/x-python",
   "name": "python",
   "nbconvert_exporter": "python",
   "pygments_lexer": "ipython2",
   "version": "2.7.9"
  }
 },
 "nbformat": 4,
 "nbformat_minor": 0
}
