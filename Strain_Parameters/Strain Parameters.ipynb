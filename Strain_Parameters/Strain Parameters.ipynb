{
 "cells": [
  {
   "cell_type": "markdown",
   "metadata": {},
   "source": [
    "# Strain Parameters\n",
    "If a body is strained, this leads to changes of length of lines and changes in the angles between intersecting lines. \n"
   ]
  },
  {
   "cell_type": "code",
   "execution_count": 1,
   "metadata": {},
   "outputs": [],
   "source": [
    "from IPython.display import Image\n",
    "from IPython.display import HTML\n",
    "import math as m\n",
    "import numpy as np\n",
    "import matplotlib.pyplot as plt\n",
    "import ipywidgets as pywid\n",
    "%matplotlib inline"
   ]
  },
  {
   "cell_type": "markdown",
   "metadata": {},
   "source": [
    "### Contents\n",
    "\n",
    "1. [Change in length](#change_in_length)    \n",
    "2. [Extension, quadratic extension, reciprocal quadratic extension](#Extension)  \n",
    "3. [Logarithmic strain and shear strain](#strain)  \n",
    "4. [Shearing of a rectangle](#shearing)\n",
    "5. [Deformation Tensor](#deformation)"
   ]
  },
  {
   "cell_type": "markdown",
   "metadata": {},
   "source": [
    "<a id='change_in_length'></a>  \n",
    "## Change in length  \n",
    "As stated above, strain is defined by change in length through deformation. Two basic parameters describe extension, strain, etc.  \n",
    "* $l_A$ initial length before deformation  \n",
    "* $l'_A$ final length after deformation\n",
    "\n",
    "<img src=\"extension.PNG\">"
   ]
  },
  {
   "cell_type": "code",
   "execution_count": 2,
   "metadata": {},
   "outputs": [],
   "source": [
    "# initial length\n",
    "lA = 1.\n",
    "# length after deformation\n",
    "lAD = 1.2"
   ]
  },
  {
   "cell_type": "markdown",
   "metadata": {},
   "source": [
    "<a id='Extension'></a>  \n",
    "## Extension, Quadratic extension, Reciprocal quadratic extension \n",
    "for analysis of small deformation, we calculate the extension $e$ from $l_A$ and $l'_A$.  \n",
    "\n",
    "\n",
    "$$e(extension) = \\frac{l'_A - l_A}{l_A}$$  \n",
    "\n",
    "for large finite strains, we calculate the quadratic extension $\\lambda$  \n",
    "\n",
    "$$\\lambda = \\Bigg( \\frac{l'_A}{l_A} \\Bigg) ^2 = (1+e)^2 $$\n",
    "\n",
    "in some cases, it is convenient to use the *reciprocal quadratic extension* instead. Logically, it is defined as  \n",
    "\n",
    "$$ \\lambda' = \\frac{1}{\\lambda} $$"
   ]
  },
  {
   "cell_type": "code",
   "execution_count": 3,
   "metadata": {},
   "outputs": [
    {
     "name": "stdout",
     "output_type": "stream",
     "text": [
      "extension is 0.20\n",
      "quadratic extension is 1.44\n",
      "reciprocal quadratic extension is 0.69\n"
     ]
    }
   ],
   "source": [
    "e = (lAD - lA)/lA  \n",
    "lam = (1 + e)**2\n",
    "lamP = 1/lam  \n",
    "\n",
    "print(\"extension is %.2f\" % e)\n",
    "print(\"quadratic extension is %.2f\" % lam)\n",
    "print(\"reciprocal quadratic extension is %.2f\" % lamP)"
   ]
  },
  {
   "cell_type": "markdown",
   "metadata": {},
   "source": [
    "<a id='strain'></a>  \n",
    "## Logarithmic strain and shear strain  \n",
    "Logarithmic strain is a parameter most suited to the examination of different types of progressive deformation sequences (particulary coaxial paths). It is defined as:  \n",
    "\n",
    "$$\\epsilon = log\\Bigg(\\frac{l'_A}{l_A}\\Bigg) $$ \n",
    "\n",
    "The logarithmic base can be either 10 or *e*. Looking at the equations for quadratic extension, we can reformulate $\\epsilon$ to:  \n",
    "\n",
    "$$\\epsilon = log(1+e) = \\frac{1}{2} log\\, \\lambda $$  \n",
    "\n",
    "Shear strain is defined by the angular shear strain and is always referred by the angle $\\psi$. It is always important if x2 moved clockwise (right-handed shear) or counter-clockwise (left-handed shear). It is defined as:  \n",
    "\n",
    "$$\\gamma = tan\\,\\psi $$  \n",
    "\n",
    "Shear strain is a measure of the distance sheared by the perpendicular to the reference direction at unit distance from the reference line. \n",
    "\n",
    "Another measure of angular defection combines angular and length parameters. It is termed $\\gamma'$.  \n",
    "\n",
    "$$\\gamma' = \\frac{\\gamma}{\\lambda} $$  \n",
    "\n",
    "<img src=\"shear.PNG\">"
   ]
  },
  {
   "cell_type": "code",
   "execution_count": 4,
   "metadata": {},
   "outputs": [
    {
     "name": "stdout",
     "output_type": "stream",
     "text": [
      "logarithmic strain is 0.182\n",
      "shear strain is 1.963\n",
      "gamma prime is 1.363\n"
     ]
    }
   ],
   "source": [
    "eps = m.log(lAD/lA)\n",
    "eps_lam = m.log(1+e)\n",
    "\n",
    "psi = 63\n",
    "gam = m.tan(psi*m.pi/180.)\n",
    "gamP = gam/lam\n",
    "print(\"logarithmic strain is %.3f\" % eps)\n",
    "print(\"shear strain is %.3f\" % gam)\n",
    "print(\"gamma prime is %.3f\" % gamP)"
   ]
  },
  {
   "cell_type": "markdown",
   "metadata": {},
   "source": [
    "<a id='shearing'></a>  \n",
    "## Shearing of a rectangle\n",
    "Using the angle $\\psi$, we will now shear a rectangle."
   ]
  },
  {
   "cell_type": "code",
   "execution_count": 5,
   "metadata": {
    "code_folding": [
     0
    ]
   },
   "outputs": [],
   "source": [
    "def plot_rectangles(psi):\n",
    "    \n",
    "    gam = m.tan(psi*m.pi/180.)\n",
    "    orig_rectangle = np.array([[0,0],[1,0],[1,1],[0,1],[0,0]])\n",
    "    def_rectangle = np.array([[0,0],[1,0],[gam+1,1],[gam,1],[0,0]])\n",
    "    \n",
    "    fig = plt.figure(figsize=(15,10))\n",
    "    plt.plot(orig_rectangle[:,0],orig_rectangle[:,1],'-',linewidth=2)\n",
    "    plt.plot(def_rectangle[:,0],def_rectangle[:,1],'r-',linewidth=2)\n",
    "    plt.xlim([-0.25, 3])\n",
    "    plt.ylim([-0.25,1.25])\n",
    "    plt.xlabel(\"x\",fontsize=16)\n",
    "    plt.ylabel(\"y\",fontsize=16)\n",
    "    plt.tick_params(axis='both', which='major', labelsize=14)\n",
    "    plt.gca().set_aspect('equal', adjustable='box')"
   ]
  },
  {
   "cell_type": "code",
   "execution_count": 7,
   "metadata": {
    "scrolled": false
   },
   "outputs": [
    {
     "data": {
      "application/vnd.jupyter.widget-view+json": {
       "model_id": "7e0d793635d6494488320485d923aadf",
       "version_major": 2,
       "version_minor": 0
      },
      "text/plain": [
       "interactive(children=(FloatSlider(value=31.5, description='psi', max=63.0), Output()), _dom_classes=('widget-i…"
      ]
     },
     "metadata": {},
     "output_type": "display_data"
    }
   ],
   "source": [
    "pywid.interact(plot_rectangles,psi=(0.,63.));"
   ]
  },
  {
   "cell_type": "markdown",
   "metadata": {},
   "source": [
    "<a id='deformation'></a>  \n",
    "## Deformation Tensors\n",
    "Using deformation tensors, we can easily transform vectors from an *initial* state to a *deformed* state.\n",
    "The deformation matrix in 2D can be written as:\n",
    "\n",
    "$$ D=\\left(\\begin{array}{rr} D_{11} & D_{12} \\\\\n",
    "D_{21} & D_{22}\\end{array}\\right)$$  \n",
    "\n",
    "So transformed points $x'_1$ and $x'_2$ can be obtained by:\n",
    "\n",
    "$$x'_1 = D_{11} x_1 + D_{12} x_2 \\\\\n",
    "x'_2 = D_{21} x_1 + D_{22} x_2 $$"
   ]
  },
  {
   "cell_type": "code",
   "execution_count": 8,
   "metadata": {},
   "outputs": [],
   "source": [
    "def transform(D11,D12,D21,D22,x1,x2):\n",
    "    \n",
    "    x1P = D11*x1 + D12*x2\n",
    "    x2P = D21*x1 + D22*x2\n",
    "    \n",
    "    fig = plt.figure(figsize=(10,10))\n",
    "    plt.scatter(x1,x2,marker='o',s=100)\n",
    "    plt.scatter(x1P,x2P,marker='o',c='r',s=100)\n",
    "    plt.xlim([-5, 5])\n",
    "    plt.ylim([-5, 5])\n",
    "    plt.xlabel(\"x$_1$\",fontsize=20)\n",
    "    plt.ylabel(\"x$_2$\",fontsize=20)\n",
    "    plt.grid()\n",
    "    plt.tick_params(axis='both', which='major', labelsize=14)\n",
    "    plt.gca().set_aspect('equal', adjustable='box')"
   ]
  },
  {
   "cell_type": "code",
   "execution_count": 9,
   "metadata": {
    "scrolled": false
   },
   "outputs": [
    {
     "data": {
      "application/vnd.jupyter.widget-view+json": {
       "model_id": "993ca5e417a749b6aa086b91902345a0",
       "version_major": 2,
       "version_minor": 0
      },
      "text/plain": [
       "interactive(children=(IntSlider(value=0, description='D11', max=3, min=-3), IntSlider(value=0, description='D1…"
      ]
     },
     "metadata": {},
     "output_type": "display_data"
    }
   ],
   "source": [
    "pywid.interact(transform,D11=(-3,3), D12=(-3,3), D21=(-3,3), D22=(-3,3), x1=(0,5), x2=(0,5));"
   ]
  }
 ],
 "metadata": {
  "hide_input": false,
  "kernelspec": {
   "display_name": "Python 3",
   "language": "python",
   "name": "python3"
  },
  "language_info": {
   "codemirror_mode": {
    "name": "ipython",
    "version": 3
   },
   "file_extension": ".py",
   "mimetype": "text/x-python",
   "name": "python",
   "nbconvert_exporter": "python",
   "pygments_lexer": "ipython3",
   "version": "3.6.8"
  },
  "varInspector": {
   "cols": {
    "lenName": 16,
    "lenType": 16,
    "lenVar": 40
   },
   "kernels_config": {
    "python": {
     "delete_cmd_postfix": "",
     "delete_cmd_prefix": "del ",
     "library": "var_list.py",
     "varRefreshCmd": "print(var_dic_list())"
    },
    "r": {
     "delete_cmd_postfix": ") ",
     "delete_cmd_prefix": "rm(",
     "library": "var_list.r",
     "varRefreshCmd": "cat(var_dic_list()) "
    }
   },
   "types_to_exclude": [
    "module",
    "function",
    "builtin_function_or_method",
    "instance",
    "_Feature"
   ],
   "window_display": false
  }
 },
 "nbformat": 4,
 "nbformat_minor": 1
}
